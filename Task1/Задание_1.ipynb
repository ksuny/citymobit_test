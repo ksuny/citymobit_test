{
 "cells": [
  {
   "cell_type": "code",
   "execution_count": 51,
   "metadata": {},
   "outputs": [],
   "source": [
    "import pandas as pd\n",
    "import datetime\n",
    "import re\n",
    "from scipy.stats import mannwhitneyu"
   ]
  },
  {
   "cell_type": "code",
   "execution_count": 52,
   "metadata": {},
   "outputs": [],
   "source": [
    "phis = pd.read_excel('./22.02.2017-reestr-licensetaxi.ru-msk.xlsx', sheet_name='Индивидуальные предприниматели')\n",
    "loan = pd.read_excel('./22.02.2017-reestr-licensetaxi.ru-msk.xlsx', sheet_name='Юридические лица')"
   ]
  },
  {
   "cell_type": "code",
   "execution_count": 54,
   "metadata": {},
   "outputs": [],
   "source": [
    "# Отбираем только лицензии, которые действуют сейчас\n",
    "now = datetime.datetime.now()\n",
    "loan = loan[pd.to_datetime(loan['Срок действия разрешения:']) > now]\n",
    "phis = phis[pd.to_datetime(phis['Срок действия разрешения:']) > now]"
   ]
  },
  {
   "cell_type": "code",
   "execution_count": null,
   "metadata": {},
   "outputs": [],
   "source": [
    "# 1. Какие марки и модели являются самыми популярными среди машин, имеющих лицензию такси?"
   ]
  },
  {
   "cell_type": "code",
   "execution_count": 56,
   "metadata": {},
   "outputs": [],
   "source": [
    "models = pd.concat([loan[['Марка', 'Модель', 'Госномер']], phis[['Марка', 'Модель', 'Госномер']]])"
   ]
  },
  {
   "cell_type": "code",
   "execution_count": 57,
   "metadata": {},
   "outputs": [],
   "source": [
    "# Приводим названия марок и моделей к стандартному виду: \n",
    "# В модели может быть написана модель и марка, поэтому разделяем по пробелу и '-' \n",
    "# В марке может быть несколько слов, оставляем только первое\n",
    "# Приводим всё к маленьким буквам\n",
    "# После преобразования ещё остаются шумные данные, их не много, поэтому можно пренебречь\n",
    "models['Модель'] = models['Модель'].apply(lambda x: re.split(r'-| ', str(x))[0].lower())\n",
    "models['Марка'] = models['Марка'].apply(lambda x: re.split(r'-| ', x)[0].lower())"
   ]
  },
  {
   "cell_type": "code",
   "execution_count": 58,
   "metadata": {},
   "outputs": [
    {
     "data": {
      "text/html": [
       "<div>\n",
       "<style scoped>\n",
       "    .dataframe tbody tr th:only-of-type {\n",
       "        vertical-align: middle;\n",
       "    }\n",
       "\n",
       "    .dataframe tbody tr th {\n",
       "        vertical-align: top;\n",
       "    }\n",
       "\n",
       "    .dataframe thead th {\n",
       "        text-align: right;\n",
       "    }\n",
       "</style>\n",
       "<table border=\"1\" class=\"dataframe\">\n",
       "  <thead>\n",
       "    <tr style=\"text-align: right;\">\n",
       "      <th></th>\n",
       "      <th>Марка</th>\n",
       "      <th>Модель</th>\n",
       "      <th>Количество машин</th>\n",
       "    </tr>\n",
       "  </thead>\n",
       "  <tbody>\n",
       "    <tr>\n",
       "      <th>0</th>\n",
       "      <td>hyundai</td>\n",
       "      <td>solaris</td>\n",
       "      <td>10196</td>\n",
       "    </tr>\n",
       "    <tr>\n",
       "      <th>1</th>\n",
       "      <td>kia</td>\n",
       "      <td>rio</td>\n",
       "      <td>7880</td>\n",
       "    </tr>\n",
       "    <tr>\n",
       "      <th>2</th>\n",
       "      <td>volkswagen</td>\n",
       "      <td>polo</td>\n",
       "      <td>3448</td>\n",
       "    </tr>\n",
       "    <tr>\n",
       "      <th>3</th>\n",
       "      <td>ford</td>\n",
       "      <td>focus</td>\n",
       "      <td>3327</td>\n",
       "    </tr>\n",
       "    <tr>\n",
       "      <th>4</th>\n",
       "      <td>renault</td>\n",
       "      <td>logan</td>\n",
       "      <td>2366</td>\n",
       "    </tr>\n",
       "  </tbody>\n",
       "</table>\n",
       "</div>"
      ],
      "text/plain": [
       "        Марка   Модель  Количество машин\n",
       "0     hyundai  solaris             10196\n",
       "1         kia      rio              7880\n",
       "2  volkswagen     polo              3448\n",
       "3        ford    focus              3327\n",
       "4     renault    logan              2366"
      ]
     },
     "execution_count": 58,
     "metadata": {},
     "output_type": "execute_result"
    }
   ],
   "source": [
    "# Самые популярные машины\n",
    "models.groupby(['Марка', 'Модель']) \\\n",
    "        .count() \\\n",
    "        .reset_index() \\\n",
    "        .rename(columns={'Госномер': 'Количество машин'}) \\\n",
    "        .sort_values('Количество машин', ascending=False) \\\n",
    "        .reset_index(drop=True) \\\n",
    "        .head(5)"
   ]
  },
  {
   "cell_type": "code",
   "execution_count": 59,
   "metadata": {},
   "outputs": [],
   "source": [
    "# 2. Выведите топ-10 компаний, владеющих лицензиями такси, а также долю рынка в машинах этих компаний."
   ]
  },
  {
   "cell_type": "code",
   "execution_count": 70,
   "metadata": {},
   "outputs": [],
   "source": [
    "all_cars = loan['Госномер'].count() + phis['Госномер'].count()"
   ]
  },
  {
   "cell_type": "code",
   "execution_count": 71,
   "metadata": {},
   "outputs": [],
   "source": [
    "# Считаем, что компании только ЮЛ\n",
    "company_count = loan.groupby(['ОГРН']) \\\n",
    "                    .agg({'Краткое наименование': \"first\", \"Госномер\": \"count\"}) \\\n",
    "                    .reset_index(drop=True) \\\n",
    "                    .rename(columns={'Госномер': 'Количество машин'})\n",
    "company_count['Доля машин на рынке'] = company_count['Количество машин'] / all_cars"
   ]
  },
  {
   "cell_type": "code",
   "execution_count": 72,
   "metadata": {},
   "outputs": [
    {
     "data": {
      "text/html": [
       "<div>\n",
       "<style scoped>\n",
       "    .dataframe tbody tr th:only-of-type {\n",
       "        vertical-align: middle;\n",
       "    }\n",
       "\n",
       "    .dataframe tbody tr th {\n",
       "        vertical-align: top;\n",
       "    }\n",
       "\n",
       "    .dataframe thead th {\n",
       "        text-align: right;\n",
       "    }\n",
       "</style>\n",
       "<table border=\"1\" class=\"dataframe\">\n",
       "  <thead>\n",
       "    <tr style=\"text-align: right;\">\n",
       "      <th></th>\n",
       "      <th>Краткое наименование</th>\n",
       "      <th>Количество машин</th>\n",
       "      <th>Доля машин на рынке</th>\n",
       "    </tr>\n",
       "  </thead>\n",
       "  <tbody>\n",
       "    <tr>\n",
       "      <th>0</th>\n",
       "      <td>ООО “Консультант“</td>\n",
       "      <td>6471</td>\n",
       "      <td>0.100678</td>\n",
       "    </tr>\n",
       "    <tr>\n",
       "      <th>1</th>\n",
       "      <td>ООО “ВУЛКАН ГРУПП“</td>\n",
       "      <td>3991</td>\n",
       "      <td>0.062094</td>\n",
       "    </tr>\n",
       "    <tr>\n",
       "      <th>2</th>\n",
       "      <td>ООО “СИТИ-ГОЛД“</td>\n",
       "      <td>2839</td>\n",
       "      <td>0.044170</td>\n",
       "    </tr>\n",
       "    <tr>\n",
       "      <th>3</th>\n",
       "      <td>ООО “Мостранс“</td>\n",
       "      <td>2326</td>\n",
       "      <td>0.036189</td>\n",
       "    </tr>\n",
       "    <tr>\n",
       "      <th>4</th>\n",
       "      <td>ООО “ЛИТИУМ“</td>\n",
       "      <td>1708</td>\n",
       "      <td>0.026574</td>\n",
       "    </tr>\n",
       "    <tr>\n",
       "      <th>5</th>\n",
       "      <td>ООО “КОРТАС“</td>\n",
       "      <td>1654</td>\n",
       "      <td>0.025734</td>\n",
       "    </tr>\n",
       "    <tr>\n",
       "      <th>6</th>\n",
       "      <td>ООО “СССР ТАКСИ“</td>\n",
       "      <td>1395</td>\n",
       "      <td>0.021704</td>\n",
       "    </tr>\n",
       "    <tr>\n",
       "      <th>7</th>\n",
       "      <td>ООО “ЭЛИТПРОМГРУПП“</td>\n",
       "      <td>1262</td>\n",
       "      <td>0.019635</td>\n",
       "    </tr>\n",
       "    <tr>\n",
       "      <th>8</th>\n",
       "      <td>ООО “Каскад“</td>\n",
       "      <td>998</td>\n",
       "      <td>0.015527</td>\n",
       "    </tr>\n",
       "    <tr>\n",
       "      <th>9</th>\n",
       "      <td>ООО “ТРАНС АВТО Б“</td>\n",
       "      <td>953</td>\n",
       "      <td>0.014827</td>\n",
       "    </tr>\n",
       "  </tbody>\n",
       "</table>\n",
       "</div>"
      ],
      "text/plain": [
       "  Краткое наименование  Количество машин  Доля машин на рынке\n",
       "0    ООО “Консультант“              6471             0.100678\n",
       "1   ООО “ВУЛКАН ГРУПП“              3991             0.062094\n",
       "2      ООО “СИТИ-ГОЛД“              2839             0.044170\n",
       "3       ООО “Мостранс“              2326             0.036189\n",
       "4         ООО “ЛИТИУМ“              1708             0.026574\n",
       "5         ООО “КОРТАС“              1654             0.025734\n",
       "6     ООО “СССР ТАКСИ“              1395             0.021704\n",
       "7  ООО “ЭЛИТПРОМГРУПП“              1262             0.019635\n",
       "8         ООО “Каскад“               998             0.015527\n",
       "9   ООО “ТРАНС АВТО Б“               953             0.014827"
      ]
     },
     "execution_count": 72,
     "metadata": {},
     "output_type": "execute_result"
    }
   ],
   "source": [
    "# Топ-10 компаний\n",
    "company_count.sort_values('Количество машин', ascending=False).head(10).reset_index(drop=True)"
   ]
  },
  {
   "cell_type": "code",
   "execution_count": 64,
   "metadata": {},
   "outputs": [],
   "source": [
    "# 3. Отличается ли средний возраст автомобилей с лицензией такси марки Kia от автомобилей марки Hyundai?\n",
    "# Является ли отличие статистически значимым?"
   ]
  },
  {
   "cell_type": "code",
   "execution_count": 65,
   "metadata": {},
   "outputs": [],
   "source": [
    "models_age = pd.concat([loan[['Марка', 'Год выпуска']], phis[['Марка', 'Год выпуска']]])\n",
    "models_age['Марка'] = models_age['Марка'].apply(lambda x: re.split(r'-| ', str(x))[0].lower())\n",
    "models_age = models_age[models_age['Марка'].isin(['kia', 'hyundai'])]"
   ]
  },
  {
   "cell_type": "code",
   "execution_count": 66,
   "metadata": {},
   "outputs": [],
   "source": [
    "models_age['Возраст'] = models_age['Год выпуска'].apply(lambda x: now.year - int(x))\n",
    "models_age = models_age.drop(columns=['Год выпуска'])"
   ]
  },
  {
   "cell_type": "code",
   "execution_count": 67,
   "metadata": {},
   "outputs": [
    {
     "data": {
      "text/html": [
       "<div>\n",
       "<style scoped>\n",
       "    .dataframe tbody tr th:only-of-type {\n",
       "        vertical-align: middle;\n",
       "    }\n",
       "\n",
       "    .dataframe tbody tr th {\n",
       "        vertical-align: top;\n",
       "    }\n",
       "\n",
       "    .dataframe thead th {\n",
       "        text-align: right;\n",
       "    }\n",
       "</style>\n",
       "<table border=\"1\" class=\"dataframe\">\n",
       "  <thead>\n",
       "    <tr style=\"text-align: right;\">\n",
       "      <th></th>\n",
       "      <th>Возраст</th>\n",
       "    </tr>\n",
       "    <tr>\n",
       "      <th>Марка</th>\n",
       "      <th></th>\n",
       "    </tr>\n",
       "  </thead>\n",
       "  <tbody>\n",
       "    <tr>\n",
       "      <th>hyundai</th>\n",
       "      <td>7.041879</td>\n",
       "    </tr>\n",
       "    <tr>\n",
       "      <th>kia</th>\n",
       "      <td>6.741594</td>\n",
       "    </tr>\n",
       "  </tbody>\n",
       "</table>\n",
       "</div>"
      ],
      "text/plain": [
       "          Возраст\n",
       "Марка            \n",
       "hyundai  7.041879\n",
       "kia      6.741594"
      ]
     },
     "execution_count": 67,
     "metadata": {},
     "output_type": "execute_result"
    }
   ],
   "source": [
    "# Средний возраст автомобилей\n",
    "models_age.groupby(['Марка']).mean()"
   ]
  },
  {
   "cell_type": "code",
   "execution_count": 69,
   "metadata": {},
   "outputs": [
    {
     "data": {
      "text/plain": [
       "array([<matplotlib.axes._subplots.AxesSubplot object at 0x000001A6CDFA7128>,\n",
       "       <matplotlib.axes._subplots.AxesSubplot object at 0x000001A6CF6FB400>],\n",
       "      dtype=object)"
      ]
     },
     "execution_count": 69,
     "metadata": {},
     "output_type": "execute_result"
    },
    {
     "data": {
      "image/png": "[encoded data removed]",
      "text/plain": [
       "<Figure size 432x288 with 2 Axes>"
      ]
     },
     "metadata": {},
     "output_type": "display_data"
    }
   ],
   "source": [
    "# Строим график распределения, по графику похоже на экспоненциальное\n",
    "models_age.hist(by=['Марка'], bins=range(3,20))"
   ]
  },
  {
   "cell_type": "code",
   "execution_count": 73,
   "metadata": {},
   "outputs": [
    {
     "data": {
      "text/plain": [
       "MannwhitneyuResult(statistic=73511800.0, pvalue=2.697308772551335e-47)"
      ]
     },
     "execution_count": 73,
     "metadata": {},
     "output_type": "execute_result"
    }
   ],
   "source": [
    "# Проводим U тест Манна-Уитни, так как он подходит для нашего распределения\n",
    "# По значению pvalue видно, что отличие средних значимое\n",
    "mannwhitneyu(models_age[models_age['Марка'] == 'hyundai']['Возраст'],\n",
    "            models_age[models_age['Марка'] == 'kia']['Возраст'],\n",
    "            alternative='greater'\n",
    ")"
   ]
  }
 ],
 "metadata": {
  "kernelspec": {
   "display_name": "Python 3",
   "language": "python",
   "name": "python3"
  },
  "language_info": {
   "codemirror_mode": {
    "name": "ipython",
    "version": 3
   },
   "file_extension": ".py",
   "mimetype": "text/x-python",
   "name": "python",
   "nbconvert_exporter": "python",
   "pygments_lexer": "ipython3",
   "version": "3.6.5"
  }
 },
 "nbformat": 4,
 "nbformat_minor": 2
}
